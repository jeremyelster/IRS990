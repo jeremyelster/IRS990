{
 "cells": [
  {
   "cell_type": "markdown",
   "metadata": {},
   "source": [
    "# Client Test"
   ]
  },
  {
   "cell_type": "code",
   "execution_count": 27,
   "metadata": {},
   "outputs": [
    {
     "name": "stdout",
     "output_type": "stream",
     "text": [
      "The autoreload extension is already loaded. To reload it, use:\n",
      "  %reload_ext autoreload\n"
     ]
    }
   ],
   "source": [
    "import pandas as pd\n",
    "import numpy as np\n",
    "import os\n",
    "import sys\n",
    "sys.path.append(\"../../\")\n",
    "import irsparser as irs\n",
    "%load_ext autoreload\n",
    "%autoreload 2"
   ]
  },
  {
   "cell_type": "code",
   "execution_count": 32,
   "metadata": {},
   "outputs": [
    {
     "name": "stdout",
     "output_type": "stream",
     "text": [
      "Number of EINS: 2147\n",
      "Gathered for Filings2018\n",
      "Number of Jewish Orgs in Indices: 1484\n"
     ]
    }
   ],
   "source": [
    "client = irs.Client(\n",
    "    local_data_dir=\"../../data\", ein_filename=\"eins\",\n",
    "    index_years=[2018], index_download=False,\n",
    "    save_xml=False)\n",
    "    \n",
    "    \n",
    "   "
   ]
  },
  {
   "cell_type": "code",
   "execution_count": 33,
   "metadata": {},
   "outputs": [
    {
     "name": "stdout",
     "output_type": "stream",
     "text": [
      "1000 records processed\n",
      "Total Runtime 9.880259 seconds\n"
     ]
    }
   ],
   "source": [
    "client.parse_xmls(add_organization_info=True)"
   ]
  },
  {
   "cell_type": "code",
   "execution_count": 34,
   "metadata": {
    "collapsed": true
   },
   "outputs": [],
   "source": [
    "df = client.getFinalDF()"
   ]
  },
  {
   "cell_type": "code",
   "execution_count": 35,
   "metadata": {},
   "outputs": [
    {
     "data": {
      "text/plain": [
       "Index(['EIN', 'TaxPeriod', 'DLN', 'FormType', 'LastUpdated', 'ObjectId',\n",
       "       'OrganizationName', 'SubmittedOn', 'URL', 'BuildTs',\n",
       "       'CYRevenuesLessExpenses', 'CYTotalExpenses', 'CYTotalRevenue',\n",
       "       'CountryAbbr', 'GrantDesc', 'GrantMoneyTotal', 'LiabilitiesToAsset',\n",
       "       'LoansFromOfficerBOY', 'LoansFromOfficerEOY', 'LoansToOfficerBOY',\n",
       "       'LoansToOfficerEOY', 'Mission', 'NotFollowSFAS117',\n",
       "       'OfficerCompensationPart7', 'OfficerCompensationPart9', 'OfficerList',\n",
       "       'OfficerName', 'OfficerTitle', 'PYRevenuesLessExpenses',\n",
       "       'PYTotalExpenses', 'PYTotalRevenue', 'PerparerFirmGrp', 'PreparerDate',\n",
       "       'PreparerPersonName', 'ProgramExp', 'ProgramExpenses', 'ReturnTs',\n",
       "       'ReturnTypeCd', 'ScheduleA', 'ScheduleI', 'ScheduleJ', 'ScheduleL',\n",
       "       'ScheduleO', 'StateAbbr', 'SurplusMargin', 'TaxPeriodBeginDt',\n",
       "       'TaxPeriodEndDt', 'TaxYr', 'TotalAssetsBOY', 'TotalAssetsEOY',\n",
       "       'TotalEmployee', 'TotalExpenses', 'TotalLiabilitiesBOY',\n",
       "       'TotalLiabilitiesEOY', 'WorkingCapital', 'returnVersion',\n",
       "       'Deductibility', 'Foundation', 'Organization', 'NTEECode',\n",
       "       'NTEECommonCode', 'NTEECodeDescription'],\n",
       "      dtype='object')"
      ]
     },
     "execution_count": 35,
     "metadata": {},
     "output_type": "execute_result"
    }
   ],
   "source": [
    "df.columns"
   ]
  },
  {
   "cell_type": "code",
   "execution_count": 36,
   "metadata": {},
   "outputs": [
    {
     "data": {
      "text/html": [
       "<div>\n",
       "<style scoped>\n",
       "    .dataframe tbody tr th:only-of-type {\n",
       "        vertical-align: middle;\n",
       "    }\n",
       "\n",
       "    .dataframe tbody tr th {\n",
       "        vertical-align: top;\n",
       "    }\n",
       "\n",
       "    .dataframe thead th {\n",
       "        text-align: right;\n",
       "    }\n",
       "</style>\n",
       "<table border=\"1\" class=\"dataframe\">\n",
       "  <thead>\n",
       "    <tr style=\"text-align: right;\">\n",
       "      <th></th>\n",
       "      <th>EIN</th>\n",
       "      <th>TaxPeriod</th>\n",
       "      <th>DLN</th>\n",
       "      <th>FormType</th>\n",
       "      <th>LastUpdated</th>\n",
       "      <th>ObjectId</th>\n",
       "      <th>OrganizationName</th>\n",
       "      <th>SubmittedOn</th>\n",
       "      <th>URL</th>\n",
       "      <th>BuildTs</th>\n",
       "      <th>...</th>\n",
       "      <th>TotalLiabilitiesBOY</th>\n",
       "      <th>TotalLiabilitiesEOY</th>\n",
       "      <th>WorkingCapital</th>\n",
       "      <th>returnVersion</th>\n",
       "      <th>Deductibility</th>\n",
       "      <th>Foundation</th>\n",
       "      <th>Organization</th>\n",
       "      <th>NTEECode</th>\n",
       "      <th>NTEECommonCode</th>\n",
       "      <th>NTEECodeDescription</th>\n",
       "    </tr>\n",
       "  </thead>\n",
       "  <tbody>\n",
       "    <tr>\n",
       "      <th>0</th>\n",
       "      <td>010267492</td>\n",
       "      <td>201611</td>\n",
       "      <td>93493314027057</td>\n",
       "      <td>990</td>\n",
       "      <td>2018-01-18T23:53:03</td>\n",
       "      <td>201703149349302705</td>\n",
       "      <td>PORTLAND CHEVRA KADISHA</td>\n",
       "      <td>2018-01-05</td>\n",
       "      <td>https://s3.amazonaws.com/irs-form-990/20170314...</td>\n",
       "      <td>2017-02-10 21:41:12Z</td>\n",
       "      <td>...</td>\n",
       "      <td>10578.0</td>\n",
       "      <td>30285.0</td>\n",
       "      <td>0.000000</td>\n",
       "      <td>2015v3.0</td>\n",
       "      <td>Deductible</td>\n",
       "      <td>509(a)(2)</td>\n",
       "      <td>Corporation</td>\n",
       "      <td>X20Z</td>\n",
       "      <td>Religion-Related, Spiritual Development</td>\n",
       "      <td>Christian</td>\n",
       "    </tr>\n",
       "    <tr>\n",
       "      <th>1</th>\n",
       "      <td>010267492</td>\n",
       "      <td>201711</td>\n",
       "      <td>93493030005318</td>\n",
       "      <td>990</td>\n",
       "      <td>2018-03-14T23:04:38</td>\n",
       "      <td>201810309349300531</td>\n",
       "      <td>PORTLAND CHEVRA KADISHA</td>\n",
       "      <td>2018-03-08</td>\n",
       "      <td>https://s3.amazonaws.com/irs-form-990/20181030...</td>\n",
       "      <td>2018-03-14 21:41:22Z</td>\n",
       "      <td>...</td>\n",
       "      <td>30285.0</td>\n",
       "      <td>14393.0</td>\n",
       "      <td>0.000000</td>\n",
       "      <td>2016v3.0</td>\n",
       "      <td>Deductible</td>\n",
       "      <td>509(a)(2)</td>\n",
       "      <td>Corporation</td>\n",
       "      <td>X20Z</td>\n",
       "      <td>Religion-Related, Spiritual Development</td>\n",
       "      <td>Christian</td>\n",
       "    </tr>\n",
       "    <tr>\n",
       "      <th>2</th>\n",
       "      <td>010406624</td>\n",
       "      <td>201703</td>\n",
       "      <td>93493043007348</td>\n",
       "      <td>990</td>\n",
       "      <td>2018-04-10T21:12:59</td>\n",
       "      <td>201840439349300734</td>\n",
       "      <td>HOLOCAUST HUMAN RIGHTS CENTER OF MAINE</td>\n",
       "      <td>2018-03-12</td>\n",
       "      <td>https://s3.amazonaws.com/irs-form-990/20184043...</td>\n",
       "      <td>2018-03-14 21:41:22Z</td>\n",
       "      <td>...</td>\n",
       "      <td>1326.0</td>\n",
       "      <td>4342.0</td>\n",
       "      <td>8.339492</td>\n",
       "      <td>2016v3.0</td>\n",
       "      <td>Deductible</td>\n",
       "      <td>170(b)(1)(A)(vi)</td>\n",
       "      <td>Corporation</td>\n",
       "      <td>Q700</td>\n",
       "      <td>International, Foreign Affairs and National Se...</td>\n",
       "      <td>International Human Rights</td>\n",
       "    </tr>\n",
       "    <tr>\n",
       "      <th>3</th>\n",
       "      <td>010530420</td>\n",
       "      <td>201708</td>\n",
       "      <td>93493192012608</td>\n",
       "      <td>990</td>\n",
       "      <td>2018-10-16T15:38:26</td>\n",
       "      <td>201801929349301260</td>\n",
       "      <td>JEWISH COMMUNITY ALLIANCE SOUTHERN MAINE</td>\n",
       "      <td>2018-09-21</td>\n",
       "      <td>https://s3.amazonaws.com/irs-form-990/20180192...</td>\n",
       "      <td>2018-06-14 16:35:46Z</td>\n",
       "      <td>...</td>\n",
       "      <td>640718.0</td>\n",
       "      <td>2988112.0</td>\n",
       "      <td>5.493680</td>\n",
       "      <td>2016v3.0</td>\n",
       "      <td>Deductible</td>\n",
       "      <td>509(a)(2)</td>\n",
       "      <td>Corporation</td>\n",
       "      <td>T700</td>\n",
       "      <td>Philanthropy, Voluntarism and Grantmaking Foun...</td>\n",
       "      <td>Federated Giving Programs</td>\n",
       "    </tr>\n",
       "    <tr>\n",
       "      <th>4</th>\n",
       "      <td>010563874</td>\n",
       "      <td>201612</td>\n",
       "      <td>93493319080497</td>\n",
       "      <td>990</td>\n",
       "      <td>2018-01-18T23:53:03</td>\n",
       "      <td>201743199349308049</td>\n",
       "      <td>JEWISH ALLIANCE FOR LAW AND SOCIAL ACTION INC</td>\n",
       "      <td>2018-01-12</td>\n",
       "      <td>https://s3.amazonaws.com/irs-form-990/20174319...</td>\n",
       "      <td>2017-02-10 21:41:12Z</td>\n",
       "      <td>...</td>\n",
       "      <td>139401.0</td>\n",
       "      <td>52477.0</td>\n",
       "      <td>0.117417</td>\n",
       "      <td>2016v3.0</td>\n",
       "      <td>Deductible</td>\n",
       "      <td>509(a)(2)</td>\n",
       "      <td>Corporation</td>\n",
       "      <td>A99</td>\n",
       "      <td>Arts, Culture and Humanities</td>\n",
       "      <td>Arts, Culture &amp; Humanities N.E.C.</td>\n",
       "    </tr>\n",
       "  </tbody>\n",
       "</table>\n",
       "<p>5 rows × 62 columns</p>\n",
       "</div>"
      ],
      "text/plain": [
       "         EIN TaxPeriod             DLN FormType          LastUpdated  \\\n",
       "0  010267492    201611  93493314027057      990  2018-01-18T23:53:03   \n",
       "1  010267492    201711  93493030005318      990  2018-03-14T23:04:38   \n",
       "2  010406624    201703  93493043007348      990  2018-04-10T21:12:59   \n",
       "3  010530420    201708  93493192012608      990  2018-10-16T15:38:26   \n",
       "4  010563874    201612  93493319080497      990  2018-01-18T23:53:03   \n",
       "\n",
       "             ObjectId                               OrganizationName  \\\n",
       "0  201703149349302705                        PORTLAND CHEVRA KADISHA   \n",
       "1  201810309349300531                        PORTLAND CHEVRA KADISHA   \n",
       "2  201840439349300734         HOLOCAUST HUMAN RIGHTS CENTER OF MAINE   \n",
       "3  201801929349301260       JEWISH COMMUNITY ALLIANCE SOUTHERN MAINE   \n",
       "4  201743199349308049  JEWISH ALLIANCE FOR LAW AND SOCIAL ACTION INC   \n",
       "\n",
       "  SubmittedOn                                                URL  \\\n",
       "0  2018-01-05  https://s3.amazonaws.com/irs-form-990/20170314...   \n",
       "1  2018-03-08  https://s3.amazonaws.com/irs-form-990/20181030...   \n",
       "2  2018-03-12  https://s3.amazonaws.com/irs-form-990/20184043...   \n",
       "3  2018-09-21  https://s3.amazonaws.com/irs-form-990/20180192...   \n",
       "4  2018-01-12  https://s3.amazonaws.com/irs-form-990/20174319...   \n",
       "\n",
       "                BuildTs                ...                  \\\n",
       "0  2017-02-10 21:41:12Z                ...                   \n",
       "1  2018-03-14 21:41:22Z                ...                   \n",
       "2  2018-03-14 21:41:22Z                ...                   \n",
       "3  2018-06-14 16:35:46Z                ...                   \n",
       "4  2017-02-10 21:41:12Z                ...                   \n",
       "\n",
       "   TotalLiabilitiesBOY  TotalLiabilitiesEOY  WorkingCapital returnVersion  \\\n",
       "0              10578.0              30285.0        0.000000      2015v3.0   \n",
       "1              30285.0              14393.0        0.000000      2016v3.0   \n",
       "2               1326.0               4342.0        8.339492      2016v3.0   \n",
       "3             640718.0            2988112.0        5.493680      2016v3.0   \n",
       "4             139401.0              52477.0        0.117417      2016v3.0   \n",
       "\n",
       "  Deductibility        Foundation  Organization  NTEECode  \\\n",
       "0    Deductible         509(a)(2)   Corporation      X20Z   \n",
       "1    Deductible         509(a)(2)   Corporation      X20Z   \n",
       "2    Deductible  170(b)(1)(A)(vi)   Corporation      Q700   \n",
       "3    Deductible         509(a)(2)   Corporation      T700   \n",
       "4    Deductible         509(a)(2)   Corporation       A99   \n",
       "\n",
       "                                      NTEECommonCode  \\\n",
       "0            Religion-Related, Spiritual Development   \n",
       "1            Religion-Related, Spiritual Development   \n",
       "2  International, Foreign Affairs and National Se...   \n",
       "3  Philanthropy, Voluntarism and Grantmaking Foun...   \n",
       "4                       Arts, Culture and Humanities   \n",
       "\n",
       "                 NTEECodeDescription  \n",
       "0                          Christian  \n",
       "1                          Christian  \n",
       "2         International Human Rights  \n",
       "3          Federated Giving Programs  \n",
       "4  Arts, Culture & Humanities N.E.C.  \n",
       "\n",
       "[5 rows x 62 columns]"
      ]
     },
     "execution_count": 36,
     "metadata": {},
     "output_type": "execute_result"
    }
   ],
   "source": [
    "df.head()"
   ]
  },
  {
   "cell_type": "code",
   "execution_count": 37,
   "metadata": {},
   "outputs": [
    {
     "data": {
      "text/plain": [
       "(1434, 62)"
      ]
     },
     "execution_count": 37,
     "metadata": {},
     "output_type": "execute_result"
    }
   ],
   "source": [
    "df.shape"
   ]
  },
  {
   "cell_type": "code",
   "execution_count": 38,
   "metadata": {},
   "outputs": [
    {
     "data": {
      "text/html": [
       "<div>\n",
       "<style scoped>\n",
       "    .dataframe tbody tr th:only-of-type {\n",
       "        vertical-align: middle;\n",
       "    }\n",
       "\n",
       "    .dataframe tbody tr th {\n",
       "        vertical-align: top;\n",
       "    }\n",
       "\n",
       "    .dataframe thead th {\n",
       "        text-align: right;\n",
       "    }\n",
       "</style>\n",
       "<table border=\"1\" class=\"dataframe\">\n",
       "  <thead>\n",
       "    <tr style=\"text-align: right;\">\n",
       "      <th></th>\n",
       "    </tr>\n",
       "  </thead>\n",
       "  <tbody>\n",
       "  </tbody>\n",
       "</table>\n",
       "</div>"
      ],
      "text/plain": [
       "Empty DataFrame\n",
       "Columns: []\n",
       "Index: []"
      ]
     },
     "execution_count": 38,
     "metadata": {},
     "output_type": "execute_result"
    }
   ],
   "source": [
    "client.error_file"
   ]
  },
  {
   "cell_type": "code",
   "execution_count": null,
   "metadata": {
    "collapsed": true
   },
   "outputs": [],
   "source": []
  }
 ],
 "metadata": {
  "kernelspec": {
   "display_name": "Python [conda env:forward]",
   "language": "python",
   "name": "conda-env-forward-py"
  },
  "language_info": {
   "codemirror_mode": {
    "name": "ipython",
    "version": 3
   },
   "file_extension": ".py",
   "mimetype": "text/x-python",
   "name": "python",
   "nbconvert_exporter": "python",
   "pygments_lexer": "ipython3",
   "version": "3.6.2"
  }
 },
 "nbformat": 4,
 "nbformat_minor": 2
}
